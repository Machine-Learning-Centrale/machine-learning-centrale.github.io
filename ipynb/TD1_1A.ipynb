{
  "nbformat": 4,
  "nbformat_minor": 0,
  "metadata": {
    "colab": {
      "name": "TD1_1A.ipynb",
      "provenance": [],
      "collapsed_sections": []
    },
    "kernelspec": {
      "name": "python3",
      "display_name": "Python 3"
    }
  },
  "cells": [
    {
      "cell_type": "markdown",
      "metadata": {
        "id": "WsBlrxcXjUid"
      },
      "source": [
        "#TD1 Statistique\n",
        "## Jeu de donnée des Poulpes\n",
        "\n",
        "On commence par charger les librairies utiles pour résoudre l'exercice. \n",
        "* numpy: calculer la racine carrée, la moyenne et la variance\n",
        "* pandas: importer le jeu de données\n",
        "* stats: la fonction 't' correspond à la loi de Student, et 'chi2' à Chi 2.\n"
      ]
    },
    {
      "cell_type": "code",
      "metadata": {
        "id": "RWspCR-UjtxC"
      },
      "source": [
        "import numpy as np\n",
        "from scipy.stats import t\n",
        "from scipy.stats import chi2\n",
        "import pandas as pd"
      ],
      "execution_count": 1,
      "outputs": []
    },
    {
      "cell_type": "markdown",
      "metadata": {
        "id": "FYreDUGuj50T"
      },
      "source": [
        "On charge le jeu de donnée poulpe"
      ]
    },
    {
      "cell_type": "code",
      "metadata": {
        "colab": {
          "base_uri": "https://localhost:8080/"
        },
        "id": "y6c0m5w2j9q5",
        "outputId": "0cf61427-5fd6-457e-9055-a5aaacc8e492"
      },
      "source": [
        "poulpes = pd.read_csv('https://machine-learning-centrale.github.io/data/poulpes.txt')\n",
        "print('Poulpes dataset loaded.')\n",
        "poids = poulpes.poids"
      ],
      "execution_count": 2,
      "outputs": [
        {
          "output_type": "stream",
          "text": [
            "Poulpes dataset loaded.\n"
          ],
          "name": "stdout"
        }
      ]
    },
    {
      "cell_type": "markdown",
      "metadata": {
        "id": "DtlB7qf7k-Hz"
      },
      "source": [
        "Estimation $\\bar X_n$ de la moyenne $\\mu$ et  $S$ de la variance $\\sigma^2$."
      ]
    },
    {
      "cell_type": "code",
      "metadata": {
        "colab": {
          "base_uri": "https://localhost:8080/"
        },
        "id": "U3eJ7Tsxk_8I",
        "outputId": "8881b53e-3205-4aa2-edde-18a6a580fa68"
      },
      "source": [
        "mu_hat = np.mean(poids);\n",
        "n = np.size(poids);\n",
        "sigma_hat = np.sqrt(n*np.var(poids)/(n-1));\n",
        "print('Le poids moyen vaut', mu_hat, 'g, et la variance moyenne vaut', sigma_hat**2, 'g^2.')"
      ],
      "execution_count": 3,
      "outputs": [
        {
          "output_type": "stream",
          "text": [
            "Le poids moyen vaut 2700.0 g, et la variance moyenne vaut 1341785.714285714 g^2.\n"
          ],
          "name": "stdout"
        }
      ]
    },
    {
      "cell_type": "markdown",
      "metadata": {
        "id": "bJh8X-UFmewf"
      },
      "source": [
        "Intervalle de confiance"
      ]
    },
    {
      "cell_type": "code",
      "metadata": {
        "colab": {
          "base_uri": "https://localhost:8080/"
        },
        "id": "sZAgCBQfmhDV",
        "outputId": "266bf107-c16d-4d44-dee3-98a5f6adbfea"
      },
      "source": [
        "n = np.size(poids);\n",
        "quantile = t.ppf(0.975,n-1);\n",
        "binf = mu_hat - quantile * sigma_hat/np.sqrt(n);\n",
        "bsup = mu_hat + quantile * sigma_hat/np.sqrt(n);\n",
        "delta = bsup - binf;\n",
        "print('L intervalle de confiance vaut', [binf,bsup])\n",
        "print('Il est de largeur', delta,'g')"
      ],
      "execution_count": 4,
      "outputs": [
        {
          "output_type": "stream",
          "text": [
            "L intervalle de confiance vaut [2058.524523869034, 3341.475476130966]\n",
            "Il est de largeur 1282.950952261932 g\n"
          ],
          "name": "stdout"
        }
      ]
    },
    {
      "cell_type": "markdown",
      "metadata": {
        "id": "SzcghxXNnvao"
      },
      "source": [
        "La taille minimale pour contrôler la largeur"
      ]
    },
    {
      "cell_type": "code",
      "metadata": {
        "colab": {
          "base_uri": "https://localhost:8080/"
        },
        "id": "e7co_F__nzZI",
        "outputId": "4fe5156a-697e-4c45-813d-803490c5f3e7"
      },
      "source": [
        "while delta >500:\n",
        "    n = n+1;\n",
        "    quantile = t.ppf(0.975,n-1);\n",
        "    binf = mu_hat - quantile * sigma_hat/np.sqrt(n);\n",
        "    bsup = mu_hat + quantile * sigma_hat/np.sqrt(n);\n",
        "    delta = bsup - binf\n",
        "print('La taille minimale de l échantillon vaut',n)"
      ],
      "execution_count": 5,
      "outputs": [
        {
          "output_type": "stream",
          "text": [
            "La taille minimale de l échantillon vaut 85\n"
          ],
          "name": "stdout"
        }
      ]
    },
    {
      "cell_type": "markdown",
      "metadata": {
        "id": "hiB6vvabqdxa"
      },
      "source": [
        "## Jeu de données Azote\n"
      ]
    },
    {
      "cell_type": "code",
      "metadata": {
        "colab": {
          "base_uri": "https://localhost:8080/"
        },
        "id": "1hMsG6U8qjxS",
        "outputId": "155d2516-2340-4abc-9139-34fadd63c8bc"
      },
      "source": [
        "azote = pd.read_csv('https://machine-learning-centrale.github.io/data/Azote.txt')\n",
        "print('Azote dataset loaded.')\n",
        "taux = azote.taux"
      ],
      "execution_count": 6,
      "outputs": [
        {
          "output_type": "stream",
          "text": [
            "Azote dataset loaded.\n"
          ],
          "name": "stdout"
        }
      ]
    },
    {
      "cell_type": "markdown",
      "metadata": {
        "id": "YRl-U3XJqxFh"
      },
      "source": [
        "Estimation de la moyenne $\\mu$ et de la variance $\\sigma^2$."
      ]
    },
    {
      "cell_type": "code",
      "metadata": {
        "colab": {
          "base_uri": "https://localhost:8080/"
        },
        "id": "KQMAi3jXqzgP",
        "outputId": "0a1a8172-ee98-4f0f-a6d4-eb8c154e0940"
      },
      "source": [
        "mu_hat = np.mean(taux);\n",
        "n = np.size(taux);\n",
        "sigma2 = n*np.var(taux)/(n-1);\n",
        "print('Le taux moyen vaut', mu_hat, 'UI, et la variance moyenne vaut', sigma_hat, 'UI.')"
      ],
      "execution_count": 9,
      "outputs": [
        {
          "output_type": "stream",
          "text": [
            "Le taux moyen vaut 60.921739130434794 UI, et la variance moyenne vaut 1158.3547445777197 UI.\n"
          ],
          "name": "stdout"
        }
      ]
    },
    {
      "cell_type": "markdown",
      "metadata": {
        "id": "UsMTyv5ZrOYH"
      },
      "source": [
        "Intervalle de confiance"
      ]
    },
    {
      "cell_type": "code",
      "metadata": {
        "colab": {
          "base_uri": "https://localhost:8080/"
        },
        "id": "72X-y49-rO5I",
        "outputId": "db76658e-d0a8-42c2-ba76-dce4f7d9ea89"
      },
      "source": [
        "n = np.size(taux);\n",
        "q1 = chi2.ppf(0.05,n-1);\n",
        "q2 = chi2.ppf(0.95,n-1);\n",
        "binf = (n-1)*sigma2/q2\n",
        "bsup = (n-1)*sigma2/q1\n",
        "delta = bsup - binf;\n",
        "print('L intervalle de confiance vaut', [binf,bsup])\n",
        "print('Il est de largeur', delta,'UI')"
      ],
      "execution_count": 10,
      "outputs": [
        {
          "output_type": "stream",
          "text": [
            "L intervalle de confiance vaut [1.0499549009415534, 2.8869418339003086]\n",
            "Il est de largeur 1.8369869329587551 UI\n"
          ],
          "name": "stdout"
        }
      ]
    }
  ]
}