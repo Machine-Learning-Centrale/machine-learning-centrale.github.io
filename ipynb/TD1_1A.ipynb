{
  "nbformat": 4,
  "nbformat_minor": 0,
  "metadata": {
    "colab": {
      "name": "TD1_1A.ipynb",
      "provenance": [],
      "collapsed_sections": []
    },
    "kernelspec": {
      "name": "python3",
      "display_name": "Python 3"
    }
  },
  "cells": [
    {
      "cell_type": "markdown",
      "metadata": {
        "id": "WsBlrxcXjUid"
      },
      "source": [
        "#TD1 Statistique\n",
        "## Jeu de donnée des Poulpes\n",
        "\n",
        "On commence par charger les librairies utiles pour résoudre l'exercice. \n",
        "* numpy: calculer la racine carrée, la moyenne et la variance\n",
        "* pandas: importer le jeu de données\n",
        "* stats: la fonction 't' correspond à la loi de Student, et 'chi2' à Chi 2.\n"
      ]
    },
    {
      "cell_type": "code",
      "metadata": {
        "id": "RWspCR-UjtxC"
      },
      "source": [
        "import numpy as np\n",
        "from scipy.stats import t\n",
        "from scipy.stats import chi2\n",
        "import pandas as pd"
      ],
      "execution_count": 1,
      "outputs": []
    },
    {
      "cell_type": "markdown",
      "metadata": {
        "id": "FYreDUGuj50T"
      },
      "source": [
        "On charge le jeu de donnée poulpe"
      ]
    },
    {
      "cell_type": "code",
      "metadata": {
        "colab": {
          "base_uri": "https://localhost:8080/"
        },
        "id": "y6c0m5w2j9q5",
        "outputId": "552975d5-02e9-4535-8ff1-b104cd98b7c7"
      },
      "source": [
        "poulpes = pd.read_csv('https://machine-learning-centrale.github.io/data/poulpes.txt')\n",
        "print('Poulpes dataset loaded.')\n",
        "poids = poulpes.poids"
      ],
      "execution_count": 2,
      "outputs": [
        {
          "output_type": "stream",
          "text": [
            "Poulpes dataset loaded.\n"
          ],
          "name": "stdout"
        }
      ]
    },
    {
      "cell_type": "markdown",
      "metadata": {
        "id": "DtlB7qf7k-Hz"
      },
      "source": [
        "Estimation de la moyenne $\\mu$ et de la variance $\\sigma^2$."
      ]
    },
    {
      "cell_type": "code",
      "metadata": {
        "colab": {
          "base_uri": "https://localhost:8080/"
        },
        "id": "U3eJ7Tsxk_8I",
        "outputId": "acce3375-686c-4354-b667-38d8311164d9"
      },
      "source": [
        "mu_hat = np.mean(poids);\n",
        "sigma_hat = np.sqrt(np.var(poids));\n",
        "print('Le poids moyen vaut', mu_hat, 'g, et la variance moyenne vaut', sigma_hat**2, 'g^2.')"
      ],
      "execution_count": 3,
      "outputs": [
        {
          "output_type": "stream",
          "text": [
            "Le poids moyen vaut 2700.0 g, et la variance moyenne vaut 1252333.3333333333 g^2.\n"
          ],
          "name": "stdout"
        }
      ]
    },
    {
      "cell_type": "markdown",
      "metadata": {
        "id": "bJh8X-UFmewf"
      },
      "source": [
        "Intervalle de confiance"
      ]
    },
    {
      "cell_type": "code",
      "metadata": {
        "colab": {
          "base_uri": "https://localhost:8080/"
        },
        "id": "sZAgCBQfmhDV",
        "outputId": "40dad347-7ac6-46c0-90df-dcd003941ad9"
      },
      "source": [
        "n = np.size(poids);\n",
        "quantile = t.ppf(0.975,n-1);\n",
        "binf = mu_hat - quantile * sigma_hat/np.sqrt(n);\n",
        "bsup = mu_hat + quantile * sigma_hat/np.sqrt(n);\n",
        "delta = bsup - binf;\n",
        "print('L intervalle de confiance vaut', [binf,bsup])\n",
        "print('Il est de largeur', delta,'g')"
      ],
      "execution_count": 4,
      "outputs": [
        {
          "output_type": "stream",
          "text": [
            "L intervalle de confiance vaut [2080.2758134629944, 3319.7241865370056]\n",
            "Il est de largeur 1239.4483730740112 g\n"
          ],
          "name": "stdout"
        }
      ]
    },
    {
      "cell_type": "markdown",
      "metadata": {
        "id": "SzcghxXNnvao"
      },
      "source": [
        "La taille minimale pour contrôler la largeur"
      ]
    },
    {
      "cell_type": "code",
      "metadata": {
        "colab": {
          "base_uri": "https://localhost:8080/"
        },
        "id": "e7co_F__nzZI",
        "outputId": "70f4ab59-50e6-4507-95fd-9b4d8980c828"
      },
      "source": [
        "while delta >500:\n",
        "    n = n+1;\n",
        "    quantile = t.ppf(0.975,n-1);\n",
        "    binf = mu_hat - quantile * sigma_hat/np.sqrt(n);\n",
        "    bsup = mu_hat + quantile * sigma_hat/np.sqrt(n);\n",
        "    delta = bsup - binf\n",
        "print('La taille minimale de l échantillon vaut',n)"
      ],
      "execution_count": 5,
      "outputs": [
        {
          "output_type": "stream",
          "text": [
            "La taille minimale de l échantillon vaut 80\n"
          ],
          "name": "stdout"
        }
      ]
    },
    {
      "cell_type": "markdown",
      "metadata": {
        "id": "hiB6vvabqdxa"
      },
      "source": [
        "## Jeu de données Azote\n"
      ]
    },
    {
      "cell_type": "code",
      "metadata": {
        "colab": {
          "base_uri": "https://localhost:8080/"
        },
        "id": "1hMsG6U8qjxS",
        "outputId": "2ec4da94-5610-4926-8f71-4898db3ec410"
      },
      "source": [
        "azote = pd.read_csv('https://machine-learning-centrale.github.io/data/Azote.txt')\n",
        "print('Azote dataset loaded.')\n",
        "taux = azote.taux"
      ],
      "execution_count": 6,
      "outputs": [
        {
          "output_type": "stream",
          "text": [
            "Azote dataset loaded.\n"
          ],
          "name": "stdout"
        }
      ]
    },
    {
      "cell_type": "markdown",
      "metadata": {
        "id": "YRl-U3XJqxFh"
      },
      "source": [
        "Estimation de la moyenne $\\mu$ et de la variance $\\sigma^2$."
      ]
    },
    {
      "cell_type": "code",
      "metadata": {
        "colab": {
          "base_uri": "https://localhost:8080/"
        },
        "id": "KQMAi3jXqzgP",
        "outputId": "a82de3fe-f04b-4475-a2db-6177c8101d32"
      },
      "source": [
        "mu_hat = np.mean(taux);\n",
        "sigma2 = np.var(taux);\n",
        "print('Le taux moyen vaut', mu_hat, 'UI, et la variance moyenne vaut', sigma_hat, 'UI.')"
      ],
      "execution_count": 7,
      "outputs": [
        {
          "output_type": "stream",
          "text": [
            "Le taux moyen vaut 60.921739130434794 UI, et la variance moyenne vaut 1119.0770006274515 UI.\n"
          ],
          "name": "stdout"
        }
      ]
    },
    {
      "cell_type": "markdown",
      "metadata": {
        "id": "UsMTyv5ZrOYH"
      },
      "source": [
        "Intervalle de confiance"
      ]
    },
    {
      "cell_type": "code",
      "metadata": {
        "colab": {
          "base_uri": "https://localhost:8080/"
        },
        "id": "72X-y49-rO5I",
        "outputId": "7303a876-7416-49d3-95fa-f6ff38ee7b1d"
      },
      "source": [
        "n = np.size(taux);\n",
        "q1 = chi2.ppf(0.05,n-1);\n",
        "q2 = chi2.ppf(0.95,n-1);\n",
        "binf = (n-1)*sigma2/q2\n",
        "bsup = (n-1)*sigma2/q1\n",
        "delta = bsup - binf;\n",
        "print('L intervalle de confiance vaut', [binf,bsup])\n",
        "print('Il est de largeur', delta,'UI')"
      ],
      "execution_count": 8,
      "outputs": [
        {
          "output_type": "stream",
          "text": [
            "L intervalle de confiance vaut [1.004304687857138, 2.7614226237307298]\n",
            "Il est de largeur 1.7571179358735918 UI\n"
          ],
          "name": "stdout"
        }
      ]
    }
  ]
}