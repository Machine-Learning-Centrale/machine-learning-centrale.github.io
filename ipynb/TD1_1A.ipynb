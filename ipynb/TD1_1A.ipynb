{
 "cells": [
  {
   "cell_type": "markdown",
   "metadata": {
    "id": "WsBlrxcXjUid"
   },
   "source": [
    "#TD1 Statistique\n",
    "## Jeu de donnée des Poulpes\n",
    "\n",
    "On commence par charger les librairies utiles pour résoudre l'exercice. \n",
    "* numpy: calculer la racine carrée, la moyenne et la variance\n",
    "* pandas: importer le jeu de données\n",
    "* stats: la fonction 't' correspond à la loi de Student, et 'chi2' à Chi 2.\n"
   ]
  },
  {
   "cell_type": "code",
   "execution_count": 1,
   "metadata": {
    "id": "RWspCR-UjtxC"
   },
   "outputs": [],
   "source": [
    "import numpy as np\n",
    "from scipy.stats import t\n",
    "from scipy.stats import chi2\n",
    "import pandas as pd"
   ]
  },
  {
   "cell_type": "markdown",
   "metadata": {
    "id": "FYreDUGuj50T"
   },
   "source": [
    "On charge le jeu de donnée poulpe"
   ]
  },
  {
   "cell_type": "code",
   "execution_count": 2,
   "metadata": {
    "colab": {
     "base_uri": "https://localhost:8080/"
    },
    "id": "y6c0m5w2j9q5",
    "outputId": "0cf61427-5fd6-457e-9055-a5aaacc8e492"
   },
   "outputs": [
    {
     "name": "stdout",
     "output_type": "stream",
     "text": [
      "Poulpes dataset loaded.\n"
     ]
    }
   ],
   "source": [
    "poulpes = pd.read_csv('https://machine-learning-centrale.github.io/data/poulpes.txt')\n",
    "print('Poulpes dataset loaded.')\n",
    "poids = poulpes.poids"
   ]
  },
  {
   "cell_type": "markdown",
   "metadata": {
    "id": "DtlB7qf7k-Hz"
   },
   "source": [
    "Estimation $\\bar X_n$ de la moyenne $\\mu$ et  $S$ de la variance $\\sigma^2$."
   ]
  },
  {
   "cell_type": "code",
   "execution_count": 3,
   "metadata": {
    "colab": {
     "base_uri": "https://localhost:8080/"
    },
    "id": "U3eJ7Tsxk_8I",
    "outputId": "8881b53e-3205-4aa2-edde-18a6a580fa68"
   },
   "outputs": [
    {
     "name": "stdout",
     "output_type": "stream",
     "text": [
      "Le poids moyen vaut 2700.0 g, et la variance moyenne vaut 1341785.714285714 g^2.\n"
     ]
    }
   ],
   "source": [
    "mu_hat = np.mean(poids);\n",
    "n = np.size(poids);\n",
    "sigma_hat = np.sqrt(n*np.var(poids)/(n-1));\n",
    "print('Le poids moyen vaut', mu_hat, 'g, et la variance moyenne vaut', sigma_hat**2, 'g^2.')"
   ]
  },
  {
   "cell_type": "markdown",
   "metadata": {
    "id": "bJh8X-UFmewf"
   },
   "source": [
    "Intervalle de confiance"
   ]
  },
  {
   "cell_type": "code",
   "execution_count": 4,
   "metadata": {
    "colab": {
     "base_uri": "https://localhost:8080/"
    },
    "id": "sZAgCBQfmhDV",
    "outputId": "266bf107-c16d-4d44-dee3-98a5f6adbfea"
   },
   "outputs": [
    {
     "name": "stdout",
     "output_type": "stream",
     "text": [
      "L intervalle de confiance vaut [2058.524523869034, 3341.475476130966]\n",
      "Il est de largeur 1282.950952261932 g\n"
     ]
    }
   ],
   "source": [
    "n = np.size(poids);\n",
    "quantile = t.ppf(0.975,n-1);\n",
    "binf = mu_hat - quantile * sigma_hat/np.sqrt(n);\n",
    "bsup = mu_hat + quantile * sigma_hat/np.sqrt(n);\n",
    "delta = bsup - binf;\n",
    "print('L intervalle de confiance vaut', [binf,bsup])\n",
    "print('Il est de largeur', delta,'g')"
   ]
  },
  {
   "cell_type": "markdown",
   "metadata": {
    "id": "SzcghxXNnvao"
   },
   "source": [
    "La taille minimale pour contrôler la largeur"
   ]
  },
  {
   "cell_type": "code",
   "execution_count": 5,
   "metadata": {
    "colab": {
     "base_uri": "https://localhost:8080/"
    },
    "id": "e7co_F__nzZI",
    "outputId": "4fe5156a-697e-4c45-813d-803490c5f3e7"
   },
   "outputs": [
    {
     "name": "stdout",
     "output_type": "stream",
     "text": [
      "La taille minimale de l échantillon vaut 85\n"
     ]
    }
   ],
   "source": [
    "while delta >500:\n",
    "    n = n+1;\n",
    "    quantile = t.ppf(0.975,n-1);\n",
    "    binf = mu_hat - quantile * sigma_hat/np.sqrt(n);\n",
    "    bsup = mu_hat + quantile * sigma_hat/np.sqrt(n);\n",
    "    delta = bsup - binf\n",
    "print('La taille minimale de l échantillon vaut',n)"
   ]
  },
  {
   "cell_type": "markdown",
   "metadata": {
    "id": "hiB6vvabqdxa"
   },
   "source": [
    "## Jeu de données Azote\n"
   ]
  },
  {
   "cell_type": "code",
   "execution_count": 6,
   "metadata": {
    "colab": {
     "base_uri": "https://localhost:8080/"
    },
    "id": "1hMsG6U8qjxS",
    "outputId": "155d2516-2340-4abc-9139-34fadd63c8bc"
   },
   "outputs": [
    {
     "name": "stdout",
     "output_type": "stream",
     "text": [
      "Azote dataset loaded.\n"
     ]
    }
   ],
   "source": [
    "azote = pd.read_csv('https://machine-learning-centrale.github.io/data/Azote.txt')\n",
    "print('Azote dataset loaded.')\n",
    "taux = azote.taux"
   ]
  },
  {
   "cell_type": "markdown",
   "metadata": {
    "id": "YRl-U3XJqxFh"
   },
   "source": [
    "Estimation de la moyenne $\\mu$ et de la variance $\\sigma^2$."
   ]
  },
  {
   "cell_type": "code",
   "execution_count": 9,
   "metadata": {
    "colab": {
     "base_uri": "https://localhost:8080/"
    },
    "id": "KQMAi3jXqzgP",
    "outputId": "0a1a8172-ee98-4f0f-a6d4-eb8c154e0940"
   },
   "outputs": [
    {
     "name": "stdout",
     "output_type": "stream",
     "text": [
      "Le taux moyen vaut 60.921739130434794 UI, et la variance moyenne vaut 1158.3547445777197 UI.\n"
     ]
    }
   ],
   "source": [
    "mu_hat = np.mean(taux);\n",
    "n = np.size(taux);\n",
    "sigma2 = n*np.var(taux)/(n-1);\n",
    "print('Le taux moyen vaut', mu_hat, 'UI, et la variance moyenne vaut', sigma_hat, 'UI.')"
   ]
  },
  {
   "cell_type": "markdown",
   "metadata": {
    "id": "UsMTyv5ZrOYH"
   },
   "source": [
    "Intervalle de confiance"
   ]
  },
  {
   "cell_type": "code",
   "execution_count": 10,
   "metadata": {
    "colab": {
     "base_uri": "https://localhost:8080/"
    },
    "id": "72X-y49-rO5I",
    "outputId": "db76658e-d0a8-42c2-ba76-dce4f7d9ea89"
   },
   "outputs": [
    {
     "name": "stdout",
     "output_type": "stream",
     "text": [
      "L intervalle de confiance vaut [1.0499549009415534, 2.8869418339003086]\n",
      "Il est de largeur 1.8369869329587551 UI\n"
     ]
    }
   ],
   "source": [
    "n = np.size(taux);\n",
    "q1 = chi2.ppf(0.05,n-1);\n",
    "q2 = chi2.ppf(0.95,n-1);\n",
    "binf = (n-1)*sigma2/q2\n",
    "bsup = (n-1)*sigma2/q1\n",
    "delta = bsup - binf;\n",
    "print('L intervalle de confiance vaut', [binf,bsup])\n",
    "print('Il est de largeur', delta,'UI')"
   ]
  }
 ],
 "metadata": {
  "colab": {
   "collapsed_sections": [],
   "name": "TD1_1A.ipynb",
   "provenance": []
  },
  "kernelspec": {
   "display_name": "Python 3",
   "language": "python",
   "name": "python3"
  },
  "language_info": {
   "codemirror_mode": {
    "name": "ipython",
    "version": 3
   },
   "file_extension": ".py",
   "mimetype": "text/x-python",
   "name": "python",
   "nbconvert_exporter": "python",
   "pygments_lexer": "ipython3",
   "version": "3.7.6"
  }
 },
 "nbformat": 4,
 "nbformat_minor": 1
}
