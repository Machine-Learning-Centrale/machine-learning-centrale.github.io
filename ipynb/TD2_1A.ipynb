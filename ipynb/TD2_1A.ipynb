{
  "nbformat": 4,
  "nbformat_minor": 0,
  "metadata": {
    "colab": {
      "name": "TD2_1A-1.ipynb",
      "provenance": [],
      "collapsed_sections": []
    },
    "kernelspec": {
      "display_name": "Python 3",
      "language": "python",
      "name": "python3"
    },
    "language_info": {
      "codemirror_mode": {
        "name": "ipython",
        "version": 3
      },
      "file_extension": ".py",
      "mimetype": "text/x-python",
      "name": "python",
      "nbconvert_exporter": "python",
      "pygments_lexer": "ipython3",
      "version": "3.7.9"
    },
    "toc": {
      "base_numbering": 1,
      "nav_menu": {},
      "number_sections": false,
      "sideBar": true,
      "skip_h1_title": true,
      "title_cell": "Table of Contents",
      "title_sidebar": "Contents",
      "toc_cell": false,
      "toc_position": {
        "height": "calc(100% - 180px)",
        "left": "10px",
        "top": "150px",
        "width": "224.2px"
      },
      "toc_section_display": true,
      "toc_window_display": true
    }
  },
  "cells": [
    {
      "cell_type": "markdown",
      "metadata": {
        "id": "3vSiyG5sC9Zs"
      },
      "source": [
        "# TD de Statistique n.2\n",
        "\n",
        "**É. Mironescu - 16 décembre 2020**\n"
      ]
    },
    {
      "cell_type": "markdown",
      "metadata": {
        "id": "lWgFTwM6C9Zy"
      },
      "source": [
        "## Exercice 1 \n",
        "\n",
        "On suppose que la résistance à la traction d'un\n",
        "fil est une variable aléatoire qui suit la loi\n",
        "$\\mathcal{N}(m,\\sigma^2)$ et que l'on est en présence de deux\n",
        "procédés de fabrication différents avec les paramètres\n",
        "respectifs $m_0=100$ et $m_1=120$, $\\sigma^2=100$ étant connue\n",
        "dans les deux cas.\n",
        "\t\n",
        "On dispose d'un échantillon de fils fabriqués à l'aide d'un des\n",
        "procédés et on souhaite déterminer de quel procédé il\n",
        "s'agit. L'échantillon dont on dispose est de taille $n=4$ et,\n",
        "après calculs, la résistance moyenne à la traction sur l'échantillon est $\\overline x=110$.\n",
        "\t\n",
        "1. **Faire un test avec un risque $\\alpha=0,05$ en renseignant les rubriques ci-dessous.**\n",
        "\n",
        "_On doit tester des moyennes, donc on va faire d'un test de moyenne. Il s'agit d'un test simple puisqu'on teste deux valeurs alternative d'un paramètre. Il n'y a pas de raison de privilégier l'un ou l'autre des procédés, ce qui justifie la question 2._\n",
        "\n",
        "$H_0:[m=m_0]\\hspace{1cm}  H_1:[m=m_1]$\n",
        "\t\t\n",
        "**Variable de décision $D$ :** Ici, on est dans le cas où l'échantillon est gaussien et la variance est connue, on peut donc utiliser la variable de décision\n",
        "$$D=\\frac{\\overline X-m_0}{\\sigma/\\sqrt{n}}$$\n",
        "qui suit une loi $\\mathcal{N}(0,1)$ sous l'hypothèse $H_0$.\n",
        "\n",
        "\n",
        "\t\t\n",
        "**Forme de la zone de rejet $A$ ou $W$ :** Comme $m_1>m_0$, on va rejeter $H_0$ lorsque $\\overline x$ est au dessus d'un seuil $k$:\n",
        "\n",
        "$A=[\\overline X>k]$ ou encore $W=\\{(x_1,...,x_n)/\\ \\overline x>k\\}$.\n",
        "\t\t\n",
        "**Zone de rejet explicite numériquement $A$ ou $W$ :**\n",
        "Le seuil $k$ est calculé de sorte que $\\mathbb{P}[A|H_0]=\\alpha$. Or\n",
        "$$\\overline X>k\\mbox{ si et seulement si }D>\\frac{k-m_0}{\\sigma/\\sqrt{n}}.$$\n",
        "Sous $H_0$, $D$ suit une loi $\\mathcal{N}(0,1)$, donc en notant $u_{1-\\alpha}$ le quantile au niveau $1-\\alpha$ de cette loi, on déduit\n",
        "$$k=m_0+u_{1-\\alpha}\\frac{\\sigma}{\\sqrt{n}}.$$\n",
        "Numériquement :"
      ]
    },
    {
      "cell_type": "code",
      "metadata": {
        "id": "WFyyXqqcC9Zy"
      },
      "source": [
        "import numpy as np\n",
        "from scipy.stats import norm"
      ],
      "execution_count": 1,
      "outputs": []
    },
    {
      "cell_type": "code",
      "metadata": {
        "colab": {
          "base_uri": "https://localhost:8080/"
        },
        "id": "LpbgFNEiC9Zz",
        "outputId": "8d826442-6d55-4058-d6c6-35db1394ae96"
      },
      "source": [
        "n=4\n",
        "m0=100\n",
        "sigma=10\n",
        "alpha=0.05\n",
        "u=norm.ppf(1-alpha)\n",
        "print(u)\n",
        "k=m0+u*sigma/np.sqrt(n)\n",
        "print('le seuil de rejet au risque 0.05 est k=',k)"
      ],
      "execution_count": 2,
      "outputs": [
        {
          "output_type": "stream",
          "text": [
            "1.6448536269514722\n",
            "le seuil de rejet au risque 0.05 est k= 108.22426813475737\n"
          ],
          "name": "stdout"
        }
      ]
    },
    {
      "cell_type": "markdown",
      "metadata": {
        "id": "0DlhDgmYC9Z0"
      },
      "source": [
        "**Résultat du test :** comme $\\overline x=110>k$, on est au delà du seuil de rejet.\n",
        "\n",
        "**Conclusion :** On rejette donc l'hypothèse $H_0$ avec une probabilité 0.05 de se tromper.\n",
        "\t\n",
        "**Risque de seconde espèce $\\beta$ :** ce risque est la probabilité de conserver $H_0$ à tort.\n",
        "C'est $\\beta=\\mathbb{P}[A^c|H_1]=\\mathbb{P}[\\overline X\\leq k|m=m_1]$. Sous $H_1$,\n",
        "$$\\frac{\\overline X-m_1}{\\sigma/\\sqrt{n}}$$\n",
        "suit une loi $\\mathcal{N}(0,1)$ et donc\n",
        "$$\\beta=\\mathbb{P}\\left[\\frac{\\overline X-m_1}{\\sigma/\\sqrt{n}}\\leq \\frac{k-m_1}{\\sigma/\\sqrt{n}}|H_1\\right]=\\phi\\left(\\frac{k-m_1}{\\sigma/\\sqrt{n}}\\right)$$\n",
        "avec $\\phi$ fonction de répartion de la loi $\\mathcal{N}(0,1)$.\n",
        "\n",
        "Numériquement :"
      ]
    },
    {
      "cell_type": "code",
      "metadata": {
        "colab": {
          "base_uri": "https://localhost:8080/"
        },
        "id": "uOjGDh7cC9Z0",
        "outputId": "e7ad6a03-de2a-4962-c6ad-713ac8ea5dca"
      },
      "source": [
        "m1=120\n",
        "beta=norm.cdf((k-m1)/(sigma/np.sqrt(n))) # cumlative density function = fonction de répartition\n",
        "print('beta=',beta)"
      ],
      "execution_count": 3,
      "outputs": [
        {
          "output_type": "stream",
          "text": [
            "beta= 0.009257705373495408\n"
          ],
          "name": "stdout"
        }
      ]
    },
    {
      "cell_type": "markdown",
      "metadata": {
        "id": "igNtDO3XC9Z1"
      },
      "source": [
        "Ce nombre est très inférieur à $\\alpha$ et donc le test privilégie plutôt $H_1$.\n",
        "\n",
        "2. **Faire un ajustement numérique sous Python pour déterminer quel devrait être l'effectif de l'échantillon pour que l'on ait $\\alpha=\\beta=0,01$. Quelle est alors la région de rejet ?**\n",
        "\n",
        "_Il n'y a pas de raison de privilégier $m_0$ à $m_1$. Si on avait choisit $m_1$ au lieu de $m_0$ comme hypothèse $H_0$, on aurait imposé le risque de rejeter l'hypothèse $m=m_1$ à tort. Ce risque est aussi le risque de seconde espèce du test précédent. Il est donc naturel de chercher à équilibrer les risque de première et seconde espèce dans le test._\n",
        "\n",
        "Pour répondre à la question, on va poser $\\alpha=0.01$ et calculer $\\beta$ en fonction de $n$ à $\\alpha$ fixé et modifier $n$ de sorte à avoir $\\beta\\approx 0.01$.\n",
        "\n",
        "On a \n",
        "$$k_n=m_0+u_{1-\\alpha}\\frac{\\sigma}{\\sqrt{n}}\\text{ et }\\beta_n=\\phi\\left(\\frac{k_n-m_1}{\\sigma/\\sqrt{n}}\\right).$$\n",
        "\n",
        "Numériquement : on construit la fonction $n\\to \\beta$, on la teste sur des valeurs de $n$ jusqu'à obtenir $\\beta\\approx 0.01$."
      ]
    },
    {
      "cell_type": "code",
      "metadata": {
        "colab": {
          "base_uri": "https://localhost:8080/"
        },
        "id": "jnp2_sniC9Z1",
        "outputId": "1700fc2e-522d-43ff-8384-c1afbd6a17bc"
      },
      "source": [
        "alpha=0.01\n",
        "u=u=norm.ppf(1-alpha)\n",
        "def beta_n(n):\n",
        "    k=m0+u*sigma/np.sqrt(n)\n",
        "    beta=norm.cdf((k-m1)/(sigma/np.sqrt(n)))\n",
        "    return beta\n",
        "print(beta_n(4))\n",
        "print(beta_n(5))\n",
        "print(beta_n(6))"
      ],
      "execution_count": 4,
      "outputs": [
        {
          "output_type": "stream",
          "text": [
            "0.04709949384395185\n",
            "0.01594494500056142\n",
            "0.005046428673217989\n"
          ],
          "name": "stdout"
        }
      ]
    },
    {
      "cell_type": "markdown",
      "metadata": {
        "id": "Fsury16rC9Z2"
      },
      "source": [
        "Donc lorsque $n=6$, on a $\\alpha =0.01$ et $\\beta=0.005$ ce qui répond à peut près à la question. \n",
        "\n",
        "_En fait, on veut\n",
        "$$1-\\alpha=\\phi\\left(\\frac{k-m_0}{\\sigma/\\sqrt{n}}\\right)\\text{ et }\\phi\\left(\\frac{k-m_1}{\\sigma/\\sqrt{n}}\\right)=\\beta.$$\n",
        "Ceci implique\n",
        "$$\\frac{k-m_1}{\\sigma/\\sqrt{n}}=-\\frac{k-m_0}{\\sigma/\\sqrt{n}}$$\n",
        "soit\n",
        "$$k=\\frac{m_0+m_1}{2}.$$\n",
        "Alors \n",
        "$$1-\\alpha=\\phi\\left(\\frac{k-m_0}{\\sigma/\\sqrt{n}}\\right)\\iff \\frac{\\sigma}{\\sqrt{n}}\\phi^{-1}(1-\\alpha)=k-m_0=\\frac{m_1-m_0}{2}$$\n",
        "d'où\n",
        "$$\\sqrt{n}=\\frac{2\\sigma\\phi^{-1}(1-\\alpha)}{m_1-m_0},$$\n",
        "soit_"
      ]
    },
    {
      "cell_type": "code",
      "metadata": {
        "colab": {
          "base_uri": "https://localhost:8080/"
        },
        "id": "sdi4gSAEC9Z2",
        "outputId": "6cfcac2b-9411-411a-ad95-891e17fa5f41"
      },
      "source": [
        "nn=(2*sigma*u/(m1-m0))**2\n",
        "print('n doit valoir ',np.ceil(nn))"
      ],
      "execution_count": 5,
      "outputs": [
        {
          "output_type": "stream",
          "text": [
            "n doit valoir  6.0\n"
          ],
          "name": "stdout"
        }
      ]
    },
    {
      "cell_type": "markdown",
      "metadata": {
        "id": "uiIpnHHXC9Z2"
      },
      "source": [
        "## Exercice 2\n",
        "\n",
        "On considère la réalisation d'un échantillon gaussien $\\{\n",
        "5,7,9,10,6,8,6,5,9,4,13 \\}$. Calculer la variance empirique $s^2$ de\n",
        "l'échantillon. Vérifier qu'au niveau de risque $5 \\%$, on ne\n",
        "peut rejeter ni l'hypothèse $\\sigma^2=4$ ni l'hypothèse\n",
        "$\\sigma^2=20$. Pour cela, on procédera à deux tests en renseignant les rubriques ci-dessous."
      ]
    },
    {
      "cell_type": "code",
      "metadata": {
        "colab": {
          "base_uri": "https://localhost:8080/"
        },
        "id": "m-Y5MRVzC9Z2",
        "outputId": "a177474c-e263-4849-9843-02385cc7b0aa"
      },
      "source": [
        "X=np.array([5,7,9,10,6,8,6,5,9,4,13])\n",
        "s2=np.var(X,ddof=1)\n",
        "print(\"variance de l'échantillon\",s2)"
      ],
      "execution_count": 6,
      "outputs": [
        {
          "output_type": "stream",
          "text": [
            "variance de l'échantillon 7.072727272727272\n"
          ],
          "name": "stdout"
        }
      ]
    },
    {
      "cell_type": "markdown",
      "metadata": {
        "id": "ozasRoa1C9Z3"
      },
      "source": [
        "On procède à deux tests au seuil de risque $\\alpha=0.05$ du type \n",
        "\n",
        "$H_0:[\\sigma=\\sigma_0]\\hspace{2cm} H_1:[\\sigma\\neq \\sigma_0]$\n",
        "avec $\\sigma_0^2=4$ puis $\\sigma_0^2=20$.\n",
        "\t\n",
        "**Variable de décision $D$ :** Il s'agit d'un échantillon gaussien de moyenne inconnue. On utilise comme variable de décision,\n",
        "$$D=(n-1)\\frac{S^2}{\\sigma_0^2}$$\n",
        "qui suit une loi du khi-deux à $n$-1 degrés de liberté sous l'hypothèse $H_0$.\n",
        "\t\n",
        "**Forme de la zone de rejet $A$ ou $W$ :** Compte tene de la forme de l'hypothèse alternative, on veut rejeter $H_0$ lorsque $s^2$ est trop éloigné de $\\sigma_0^2$, on choisit la zone de rejet de la forme $A=[D<k_1]\\cup [D>k_2]$ et on détermine $k_1$ et $k_2$ de sorte que les deux événements soient de probabilité $\\alpha/2$ sous $H_0$.\n",
        "\t\n",
        "**Zone de rejet explicite numériquement $A$ ou $W$ :** Pour trouver $k_1$ et $k_2$, on utilise la loi de $D$ sous $H_0$ : $k_1$ et $k_2$ sont respectivement les quantiles du $\\chi^2$ à $n-1$ degrés de liberté aux seuils $\\alpha/2$ et $1-\\alpha/2$ :"
      ]
    },
    {
      "cell_type": "code",
      "metadata": {
        "colab": {
          "base_uri": "https://localhost:8080/"
        },
        "id": "GVKFjngHC9Z3",
        "outputId": "8c91da57-9a6b-4092-c08f-f759925208da"
      },
      "source": [
        "alpha=0.05\n",
        "n=np.size(X)\n",
        "from scipy.stats import chi2\n",
        "k=np.array([chi2.ppf(a,n-1) for a in [alpha/2, 1-alpha/2 ]])\n",
        "\n",
        "print('Le seuil de rejet inférieur de D est k_1=', k[0])\n",
        "print('Le seuil de rejet supérieur de D est k_2=', k[1])"
      ],
      "execution_count": 7,
      "outputs": [
        {
          "output_type": "stream",
          "text": [
            "Le seuil de rejet inférieur de D est k_1= 3.2469727802368413\n",
            "Le seuil de rejet supérieur de D est k_2= 20.483177350807388\n"
          ],
          "name": "stdout"
        }
      ]
    },
    {
      "cell_type": "markdown",
      "metadata": {
        "id": "wmUer6zFC9Z3"
      },
      "source": [
        "**Résultat du test :** On calcule la valeur de la réalisation de $d$ dans les cas $\\sigma_0^2=4$ et $\\sigma_0^2=20$ et on trouve respectivement"
      ]
    },
    {
      "cell_type": "code",
      "metadata": {
        "colab": {
          "base_uri": "https://localhost:8080/"
        },
        "id": "0g62tRuCC9Z4",
        "outputId": "31118c6d-9dba-4d3f-d10b-5fad03891b96"
      },
      "source": [
        "d=np.array([(n-1)*s2/sigma2 for sigma2 in [4,20]])\n",
        "print(d)"
      ],
      "execution_count": 8,
      "outputs": [
        {
          "output_type": "stream",
          "text": [
            "[17.68181818  3.53636364]\n"
          ],
          "name": "stdout"
        }
      ]
    },
    {
      "cell_type": "markdown",
      "metadata": {
        "id": "NmHwmkfZC9Z4"
      },
      "source": [
        "qui sont tous les deux hors de la zone de rejet."
      ]
    },
    {
      "cell_type": "markdown",
      "metadata": {
        "id": "RqKmLpsiC9Z4"
      },
      "source": [
        "**Conclusion :** On ne peut pas rejeter les hypothèses avec les donnée dont on dispose.\n",
        "\t\n",
        "**Peut-on calculer le risque de seconde espèce $\\beta$ ?** Non car on n'a pas la loi de $D$ sous $H_1$. "
      ]
    },
    {
      "cell_type": "markdown",
      "metadata": {
        "id": "WsBlrxcXjUid"
      },
      "source": [
        "## Exercice 3 : _Ajustement à loi une loi normale avec paramètres à estimer_\n",
        "\n",
        "La répartition des durées de 670 vols Paris-Alger (en heure) en Caravelle est donnée dans le fichier `vols.txt`.\n",
        "\t\n",
        "1. **Tracer l'histogramme sous Python.** "
      ]
    },
    {
      "cell_type": "code",
      "metadata": {
        "id": "dd6YeXBdC9Z5"
      },
      "source": [
        "# importation des modules et fonctions\n",
        "import matplotlib.pyplot as plt\n",
        "import numpy as np\n",
        "import pandas as pd\n",
        "import seaborn as sns"
      ],
      "execution_count": 9,
      "outputs": []
    },
    {
      "cell_type": "code",
      "metadata": {
        "colab": {
          "base_uri": "https://localhost:8080/",
          "height": 404
        },
        "id": "NmwzxXQBC9Z5",
        "outputId": "fdccde33-bc85-4f97-9204-ef239c44eadf"
      },
      "source": [
        "# téléchargement des données\n",
        "vols=pd.read_csv('https://machine-learning-centrale.github.io/data/vols.txt')\n",
        "duree=vols.vols\n",
        "n=np.size(duree)\n",
        "print('n=',n)\n",
        "sns.displot(duree, kde=True)"
      ],
      "execution_count": 10,
      "outputs": [
        {
          "output_type": "stream",
          "text": [
            "n= 670\n"
          ],
          "name": "stdout"
        },
        {
          "output_type": "execute_result",
          "data": {
            "text/plain": [
              "<seaborn.axisgrid.FacetGrid at 0x7f6fb8943dd8>"
            ]
          },
          "metadata": {
            "tags": []
          },
          "execution_count": 10
        },
        {
          "output_type": "display_data",
          "data": {
            "image/png": "[encoded data removed]",
            "text/plain": [
              "<Figure size 360x360 with 1 Axes>"
            ]
          },
          "metadata": {
            "tags": [],
            "needs_background": "light"
          }
        }
      ]
    },
    {
      "cell_type": "markdown",
      "metadata": {
        "id": "6-m0Xo9PHOQW"
      },
      "source": [
        "On divise les durées en classes et on plot l'histogramme. "
      ]
    },
    {
      "cell_type": "code",
      "metadata": {
        "scrolled": false,
        "colab": {
          "base_uri": "https://localhost:8080/",
          "height": 383
        },
        "id": "BPS4i8EzC9Z5",
        "outputId": "ebe89692-2cda-4968-b763-6270267035dd"
      },
      "source": [
        "# création d'une figure et d'un système d'Axes puis d'un histogramme\n",
        "fig, ax = plt.subplots() \n",
        "a=ax.hist(duree,bins=np.linspace(1.90,2.55,14))\n",
        "plt.title('Histogramme des durées des 670 vols Paris-Alger en heures')\n",
        "plt.xlabel('durée en heures')\n",
        "plt.ylabel('effectifs');\n",
        "print('limites des classes\\n',a[1]) # les bins (limites des classes)\n",
        "print('effectifs des classes\\n', a[0]) # les effectifs des classes\n",
        "J=np.size(a[0])\n",
        "print('On a ',J,'classes.')"
      ],
      "execution_count": 11,
      "outputs": [
        {
          "output_type": "stream",
          "text": [
            "limites des classes\n",
            " [1.9  1.95 2.   2.05 2.1  2.15 2.2  2.25 2.3  2.35 2.4  2.45 2.5  2.55]\n",
            "effectifs des classes\n",
            " [ 19.  19.  39.  48.  87.  94. 104.  92.  57.  44.  28.  26.  13.]\n",
            "On a  13 classes.\n"
          ],
          "name": "stdout"
        },
        {
          "output_type": "display_data",
          "data": {
            "image/png": "[encoded data removed]",
            "text/plain": [
              "<Figure size 432x288 with 1 Axes>"
            ]
          },
          "metadata": {
            "tags": [],
            "needs_background": "light"
          }
        }
      ]
    },
    {
      "cell_type": "markdown",
      "metadata": {
        "id": "m32IISjxC9Z5"
      },
      "source": [
        "L'histogramme est cohérent avec un échantillon gaussien, on peut donc procéder à un test d'ajustement."
      ]
    },
    {
      "cell_type": "markdown",
      "metadata": {
        "id": "t3Bw7NiyC9Z6"
      },
      "source": [
        "2. **Calculer l'estimation de la moyenne $\\bar{x}$ et l'écart-type $s$.**"
      ]
    },
    {
      "cell_type": "code",
      "metadata": {
        "colab": {
          "base_uri": "https://localhost:8080/"
        },
        "id": "1fN4kg1qC9Z6",
        "outputId": "a3d74fcc-9c0b-46b5-a84c-1aab6ff6e0a8"
      },
      "source": [
        "xb=np.mean(duree)\n",
        "s=np.sqrt(np.var(duree,ddof=1))\n",
        "print('moyenne ',xb,'h. et écart-type ',s, 'h.')"
      ],
      "execution_count": 12,
      "outputs": [
        {
          "output_type": "stream",
          "text": [
            "moyenne  2.2163664166068817 h. et écart-type  0.1378802036693807 h.\n"
          ],
          "name": "stdout"
        }
      ]
    },
    {
      "cell_type": "markdown",
      "metadata": {
        "id": "zcsA1p68C9Z6"
      },
      "source": [
        "3. **On veut tester l'ajustement de ces données à une loi normale au seuil de risque 10\\%.**\n",
        "\n",
        "_(a) Ecrire $H_0$ et $H_1$._\n",
        "\n",
        "C'est un test d'ajustement à une loi normale avec moyenne et variance estimée. \n",
        "\n",
        "$H_0:[X\\leadsto \\mathcal{N}(\\;\\overline x,s^2)]$ et $H_1:H_0^c$.\n",
        "\n",
        "_(b) Donner la variable de décision $D^2$, sa loi sous $H_0$ ainsi que la zone de rejet._\n",
        "\n",
        "Pour un ajustement, on classe les données (c'est fait par la fonction `hist`) et on utilise la variable\n",
        "$$D^2=\\sum_{j=1}^{J} \\frac{(N_j-np_j)^2}{np_j}$$ \n",
        "qui, sous l'hypothèse $H_0$ suit une loi du khi-deux à $J-1-p$ degrés de liberté où $p$ est le nombre de paramètres estimés (ici 2). Pour tout $j$, $N_j$ est l'effectif expérimental de la classe $j$ et $p_j$ est la fréquence théorique de la classe $j$ sous $H_0$, soit $p_j=\\mathbb{P}[X\\in C_j]$, $C_j$ étant la classe $j$.\n",
        "\n",
        "On rejette $H_0$ sur $[D^2>x_{1-\\alpha}]$ où $x_{1-\\alpha}$ est le quantile de niveau $1-\\alpha$ de la loi du khi-deux à 10 degrés de liberté, soit"
      ]
    },
    {
      "cell_type": "code",
      "metadata": {
        "colab": {
          "base_uri": "https://localhost:8080/"
        },
        "id": "Gtp-BP8sC9Z7",
        "outputId": "dd070c14-fe9d-424e-f09e-0113d963b3b4"
      },
      "source": [
        "from scipy.stats import chi2\n",
        "alpha=0.1\n",
        "ddl=J-1-2\n",
        "xr=chi2.ppf(1-alpha,ddl)\n",
        "print('seuil de rejet du Khi-deux',xr)"
      ],
      "execution_count": 13,
      "outputs": [
        {
          "output_type": "stream",
          "text": [
            "seuil de rejet du Khi-deux 15.987179172105265\n"
          ],
          "name": "stdout"
        }
      ]
    },
    {
      "cell_type": "markdown",
      "metadata": {
        "id": "dAw_meM1C9Z7"
      },
      "source": [
        "_(c) Calculer la valeur de la réalisation $d^2$ de $D^2$ et conclure._\n",
        "\n",
        "On calcule d'abord les effectifs théoriques des classes."
      ]
    },
    {
      "cell_type": "code",
      "metadata": {
        "colab": {
          "base_uri": "https://localhost:8080/"
        },
        "id": "QRNGcAjJC9Z7",
        "outputId": "1a594224-8e87-481a-d010-79e122d44f88"
      },
      "source": [
        "from scipy.stats import norm\n",
        "bins_th=a[1][1:-1]\n",
        "f=norm.cdf(bins_th,xb,s)\n",
        "p=np.zeros(J)\n",
        "p[0]=f[0]\n",
        "p[1:-1]=f[1:]-f[:-1]\n",
        "p[-1]=1-f[-1]\n",
        "d2=np.sum((a[0]-n*p)**2/(n*p))\n",
        "print('réalisation d2 de D2',d2)"
      ],
      "execution_count": 14,
      "outputs": [
        {
          "output_type": "stream",
          "text": [
            "réalisation d2 de D2 12.53159372355203\n"
          ],
          "name": "stdout"
        }
      ]
    },
    {
      "cell_type": "markdown",
      "metadata": {
        "id": "hMfyEAqVC9Z8"
      },
      "source": [
        "Donc on ne rejette pas l'hypothèse gaussienne. "
      ]
    },
    {
      "cell_type": "markdown",
      "metadata": {
        "id": "-nrlOHBtC9Z8"
      },
      "source": [
        "_(d) Pour quels seuils de risque a-t-on la même conclusion ?_"
      ]
    },
    {
      "cell_type": "code",
      "metadata": {
        "scrolled": true,
        "colab": {
          "base_uri": "https://localhost:8080/",
          "height": 264
        },
        "id": "TVaFYol6C9Z8",
        "outputId": "65c69945-c940-413e-9af3-fe53f4adbbfb"
      },
      "source": [
        "fig, ax = plt.subplots(1, 1)\n",
        "y = np.linspace(chi2.ppf(0.001, ddl),chi2.ppf(0.999, ddl), 100)\n",
        "ax.plot(y, chi2.pdf(y, ddl), label='$\\chi^2$ pdf')\n",
        "ax.legend(loc='best', frameon=False)\n",
        "plt.show()"
      ],
      "execution_count": 15,
      "outputs": [
        {
          "output_type": "display_data",
          "data": {
            "image/png": "[encoded data removed]",
            "text/plain": [
              "<Figure size 432x288 with 1 Axes>"
            ]
          },
          "metadata": {
            "tags": [],
            "needs_background": "light"
          }
        }
      ]
    },
    {
      "cell_type": "markdown",
      "metadata": {
        "id": "icIlGv-oC9Z8"
      },
      "source": [
        "On aurait eu la même conclusion jusqu'au seuil de risque appelé la **$p$-value** \n",
        "$$\\mathbb{P}[D^2>d^2]$$"
      ]
    },
    {
      "cell_type": "code",
      "metadata": {
        "colab": {
          "base_uri": "https://localhost:8080/"
        },
        "id": "snwvuvpuC9Z8",
        "outputId": "567ce854-778c-44f4-b675-a987debba2dd"
      },
      "source": [
        "pvalue=1-chi2.cdf(d2,ddl)\n",
        "print(pvalue)"
      ],
      "execution_count": 16,
      "outputs": [
        {
          "output_type": "stream",
          "text": [
            "0.25105200668126426\n"
          ],
          "name": "stdout"
        }
      ]
    },
    {
      "cell_type": "markdown",
      "metadata": {
        "id": "cwBIeiGxC9Z9"
      },
      "source": [
        "## Exercice 4 \n",
        "\n",
        "Le contrôle effectué sur deux lots de bobines\n",
        "\télectriques en provenance de deux fournisseurs différents donne\n",
        "\tle résultat suivant.\n",
        "\n",
        "* Fournisseur 1: bobines livrées $1200$, nombre de pièces défectueuses 42; \n",
        "* Fournisseur 2: bobines livrées $1500$, nombre de pièces défectueuses 30.\n",
        "\n",
        "On veut savoir s'il y a une différence significative de la\n",
        "\tqualité de fabrication entre les deux fournisseurs avec un risque\n",
        "\tde première espèce $\\alpha=0,05$.\n",
        "\t\n",
        "\n",
        "1. **On suppose que les données des fournisseurs sont des réalisations d'échantillons indépendants de v.a. $X^i$ suivant des lois de Bernoulli de paramètres $p_i$, pour $i=1,2$. Proposer des lois approchant celles de $\\overline{X^1}$ et $\\overline{X^2}$.**\n",
        "\n",
        "Comme les échantillons sont grands $\\overline{X^1}$ et $\\overline{X^2}$ suivent approximativement, d'après le théorème limite central, des lois normales indépendantes de paramètres respectifs $p_i$ et $p_i(1-p_i)/n_i$ pour $i=1$, $2$, avec $n_i$ la taille de l'échantillon $i$.\n",
        "\n",
        "2. **Proposer une loi approchant celle de $\\overline{X^1}-\\overline{X^2}$ si $p_1=p_2=p$.**\n",
        "\n",
        "Comme les variables $\\overline{X^1}$ et $\\overline{X^2}$ sont indépendantes, leur différence est encore approximativement une loi normale et sous l'hypothèse $p_1=p_2=p$, sa moyenne est nulle et sa variance est \n",
        "$$\\sigma^2=p(1-p)\\left(\\frac{1}{n_1}+\\frac{1}{n_2}\\right).$$\n",
        "\n",
        "3. **Réaliser un test au seuil de risque $\\alpha$ de l'égalité des moyennes.**\n",
        "\t\t\n",
        "_Indication : on pourra estimer la valeur commune de $p_1$ et $p_2$ sous l'hypothèse $p_1=p_2$ par $$\\hat p=\\frac{n_1\\overline{X^1}+n_2\\overline{X^2}}{n_1+n_2}$$\n",
        "en justifiant ce choix._\n",
        "\n",
        "$H_0:[p_1=p_2]$ et $H_1:[p_1\\neq p_2]$\n",
        "\n",
        "La variable $\\overline{X^1}-\\overline{X^2}$ suit, sous $H_0$, une loi normale de paramètres 0 et $\\sigma^2$ qu'il faut estimer par $\\hat \\sigma^2$. Le paramètre $p$ à estimer est le paramètre commun aux deux échantillons pris ensemble. On peut donc l'estimer par l'estimateur sur l'échantillon total :\n",
        "$$\\hat p=\\frac{n_1\\overline{X^1}+n_2\\overline{X^2}}{n_1+n_2}$$\n",
        "\n",
        "On choisit alors comme variable de décision, la variable\n",
        "$$D= \\frac{\\overline X^1-\\overline X^2}{\\hat\\sigma}\\mbox{ avec }\\hat\\sigma^2=\\hat p (1-\\hat p )\\left(\\frac{1}{n_1}+\\frac{1}{n_2}\\right)$$\n",
        "qui suit, sous $H_0$, approximativement une loi $\\mathcal{N}(0,1)$. On choisit la région de rejet de la forme $[|D|>k]$ avec $k=u_{1-\\alpha/2}$.\n"
      ]
    },
    {
      "cell_type": "code",
      "metadata": {
        "colab": {
          "base_uri": "https://localhost:8080/"
        },
        "id": "h1d3PwxxC9Z9",
        "outputId": "5aa698d6-5df4-4070-e8b2-7a8fb4b6008a"
      },
      "source": [
        "alpha=0.05\n",
        "u=norm.ppf(1-alpha/2)\n",
        "n1=1200\n",
        "n2=1500\n",
        "x1=42\n",
        "x2=30\n",
        "p=(x1+x2)/(n1+n2)\n",
        "print('estimation de p:',p)\n",
        "sigma=np.sqrt(p*(1-p)*(1/n1+1/n2))\n",
        "d=(x1/n1-x2/n2)/sigma\n",
        "print('seuil de rejet bilatéral:', u)\n",
        "print('réalisation de la variable de décision:',d)"
      ],
      "execution_count": 17,
      "outputs": [
        {
          "output_type": "stream",
          "text": [
            "estimation de p: 0.02666666666666667\n",
            "seuil de rejet bilatéral: 1.959963984540054\n",
            "réalisation de la variable de décision: 2.403977867835122\n"
          ],
          "name": "stdout"
        }
      ]
    },
    {
      "cell_type": "markdown",
      "metadata": {
        "id": "5Q3JlR7KC9Z9"
      },
      "source": [
        "On rejette donc l'hypothèse $H_0$ selon laquelle les échantillons sont similaire au seuil de risque $0.05$."
      ]
    }
  ]
}